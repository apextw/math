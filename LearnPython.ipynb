{
 "cells": [
  {
   "cell_type": "markdown",
   "metadata": {},
   "source": [
    "# Learn Python"
   ]
  },
  {
   "cell_type": "markdown",
   "metadata": {},
   "source": [
    "### Input and Output"
   ]
  },
  {
   "cell_type": "code",
   "execution_count": 1,
   "metadata": {},
   "outputs": [
    {
     "name": "stdout",
     "output_type": "stream",
     "text": [
      "Hello, what is your name? Steven Lee\n",
      "Nice to meet you, Steven Lee\n"
     ]
    }
   ],
   "source": [
    "# Input and Output\n",
    "name = input('Hello, what is your name? ')\n",
    "print('Nice to meet you, '+name)"
   ]
  },
  {
   "cell_type": "markdown",
   "metadata": {},
   "source": [
    "### Try / Except\n",
    "\n",
    "Handle unexpected result"
   ]
  },
  {
   "cell_type": "code",
   "execution_count": 58,
   "metadata": {},
   "outputs": [
    {
     "name": "stdout",
     "output_type": "stream",
     "text": [
      "How old are you? 17\n",
      "You born in 2000\n",
      "Do somthing...\n"
     ]
    }
   ],
   "source": [
    "string = input('How old are you? ')\n",
    "try:\n",
    "    age = int(string)\n",
    "    print('You born in',(2017 - age))\n",
    "except ValueError as ex:\n",
    "    print(ex)\n",
    "    pass\n",
    "\n",
    "print('Do somthing...')"
   ]
  },
  {
   "cell_type": "markdown",
   "metadata": {},
   "source": [
    "### If... else..."
   ]
  },
  {
   "cell_type": "code",
   "execution_count": 5,
   "metadata": {},
   "outputs": [
    {
     "name": "stdout",
     "output_type": "stream",
     "text": [
      "How old are you? 3\n",
      "Milk is good for you\n"
     ]
    }
   ],
   "source": [
    "age = int(input('How old are you? '))\n",
    "if age > 20:\n",
    "    print('Do you like some beer?')\n",
    "elif age < 5:\n",
    "    print('Milk is good for you')\n",
    "else:\n",
    "    print('Do you like cola?')"
   ]
  },
  {
   "cell_type": "markdown",
   "metadata": {},
   "source": [
    "### For Loop"
   ]
  },
  {
   "cell_type": "code",
   "execution_count": 8,
   "metadata": {},
   "outputs": [
    {
     "name": "stdout",
     "output_type": "stream",
     "text": [
      "Not Today!\n",
      "N\n",
      "o\n",
      "t\n",
      " \n",
      "T\n",
      "o\n",
      "d\n",
      "a\n",
      "y\n",
      "!\n"
     ]
    }
   ],
   "source": [
    "string = 'Not Today!'\n",
    "print(string)\n",
    "\n",
    "for ch in string :\n",
    "    print(ch)"
   ]
  },
  {
   "cell_type": "markdown",
   "metadata": {},
   "source": [
    "### Nested For Loop"
   ]
  },
  {
   "cell_type": "code",
   "execution_count": 17,
   "metadata": {},
   "outputs": [
    {
     "name": "stdout",
     "output_type": "stream",
     "text": [
      "1 x 1 = 1\t1 x 2 = 2\t1 x 3 = 3\t\n",
      "\n",
      "1 x 4 = 4\t1 x 5 = 5\t1 x 6 = 6\t\n",
      "\n",
      "1 x 7 = 7\t1 x 8 = 8\t1 x 9 = 9\t\n",
      "\n",
      "----------------------------------------\n",
      "2 x 1 = 2\t2 x 2 = 4\t2 x 3 = 6\t\n",
      "\n",
      "2 x 4 = 8\t2 x 5 = 10\t2 x 6 = 12\t\n",
      "\n",
      "2 x 7 = 14\t2 x 8 = 16\t2 x 9 = 18\t\n",
      "\n",
      "----------------------------------------\n",
      "3 x 1 = 3\t3 x 2 = 6\t3 x 3 = 9\t\n",
      "\n",
      "3 x 4 = 12\t3 x 5 = 15\t3 x 6 = 18\t\n",
      "\n",
      "3 x 7 = 21\t3 x 8 = 24\t3 x 9 = 27\t\n",
      "\n",
      "----------------------------------------\n",
      "4 x 1 = 4\t4 x 2 = 8\t4 x 3 = 12\t\n",
      "\n",
      "4 x 4 = 16\t4 x 5 = 20\t4 x 6 = 24\t\n",
      "\n",
      "4 x 7 = 28\t4 x 8 = 32\t4 x 9 = 36\t\n",
      "\n",
      "----------------------------------------\n",
      "5 x 1 = 5\t5 x 2 = 10\t5 x 3 = 15\t\n",
      "\n",
      "5 x 4 = 20\t5 x 5 = 25\t5 x 6 = 30\t\n",
      "\n",
      "5 x 7 = 35\t5 x 8 = 40\t5 x 9 = 45\t\n",
      "\n",
      "----------------------------------------\n",
      "6 x 1 = 6\t6 x 2 = 12\t6 x 3 = 18\t\n",
      "\n",
      "6 x 4 = 24\t6 x 5 = 30\t6 x 6 = 36\t\n",
      "\n",
      "6 x 7 = 42\t6 x 8 = 48\t6 x 9 = 54\t\n",
      "\n",
      "----------------------------------------\n",
      "7 x 1 = 7\t7 x 2 = 14\t7 x 3 = 21\t\n",
      "\n",
      "7 x 4 = 28\t7 x 5 = 35\t7 x 6 = 42\t\n",
      "\n",
      "7 x 7 = 49\t7 x 8 = 56\t7 x 9 = 63\t\n",
      "\n",
      "----------------------------------------\n",
      "8 x 1 = 8\t8 x 2 = 16\t8 x 3 = 24\t\n",
      "\n",
      "8 x 4 = 32\t8 x 5 = 40\t8 x 6 = 48\t\n",
      "\n",
      "8 x 7 = 56\t8 x 8 = 64\t8 x 9 = 72\t\n",
      "\n",
      "----------------------------------------\n",
      "9 x 1 = 9\t9 x 2 = 18\t9 x 3 = 27\t\n",
      "\n",
      "9 x 4 = 36\t9 x 5 = 45\t9 x 6 = 54\t\n",
      "\n",
      "9 x 7 = 63\t9 x 8 = 72\t9 x 9 = 81\t\n",
      "\n",
      "----------------------------------------\n"
     ]
    }
   ],
   "source": [
    "# 9x9\n",
    "for x in range(1, 10):\n",
    "    for y in range(1, 10):\n",
    "        print('%d x %d = %d' % (x, y, x*y),end='\\t')\n",
    "        if y%3 == 0 :\n",
    "            print('\\n')\n",
    "    print('----------------------------------------',end='\\n')"
   ]
  },
  {
   "cell_type": "markdown",
   "metadata": {},
   "source": [
    "### For Loop and If-else"
   ]
  },
  {
   "cell_type": "code",
   "execution_count": 25,
   "metadata": {},
   "outputs": [
    {
     "name": "stdout",
     "output_type": "stream",
     "text": [
      "Test 3 times :\n",
      "[No.1] 4 x 9 = 1\n",
      "4 x 9 = 36\n",
      "[No.2] 6 x 1 = 1\n",
      "6 x 1 = 6\n",
      "[No.3] 2 x 1 = 1\n",
      "2 x 1 = 2\n",
      "You success 0 / 3\n"
     ]
    }
   ],
   "source": [
    "import numpy as np\n",
    "\n",
    "total = 3\n",
    "success = 0\n",
    "print('Test %d times :'% total)\n",
    "for x in range(1, total+1):\n",
    "    a = np.random.randint(1,10)\n",
    "    b = np.random.randint(1,10)\n",
    "    c = int(input('[No.%d] %d x %d = '%(x,a,b)))\n",
    "    if c == (a*b) :\n",
    "        success = success + 1\n",
    "        print('Correct!')\n",
    "    else:\n",
    "        print('%d x %d = %d'%(a,b,a*b))\n",
    "print('You success %d / %d'%(success,total))"
   ]
  },
  {
   "cell_type": "markdown",
   "metadata": {},
   "source": [
    "### While Loop"
   ]
  },
  {
   "cell_type": "code",
   "execution_count": 38,
   "metadata": {},
   "outputs": [
    {
     "name": "stdout",
     "output_type": "stream",
     "text": [
      "Guess a number from 0 to 9\n",
      "Guess No.1 is \n",
      "\"\" cannot be converted to an int: invalid literal for int() with base 10: ''\n",
      "The number is 4\n",
      "Guess No.2 is 1.234\n",
      "\"1.234\" cannot be converted to an int: invalid literal for int() with base 10: '1.234'\n",
      "The number is 3\n",
      "Guess No.3 is \n",
      "\"\" cannot be converted to an int: invalid literal for int() with base 10: ''\n",
      "The number is 7\n",
      "Guess No.4 is \n",
      "\"\" cannot be converted to an int: invalid literal for int() with base 10: ''\n",
      "The number is 0\n",
      "Guess No.5 is \n",
      "\"\" cannot be converted to an int: invalid literal for int() with base 10: ''\n",
      "Guess too many times.\n",
      "Finished\n"
     ]
    }
   ],
   "source": [
    "import numpy as np\n",
    "\n",
    "print('Guess a number from 0 to 9')\n",
    "cnt = 0\n",
    "while True:\n",
    "    cnt = cnt + 1\n",
    "    a = np.random.randint(0,10)\n",
    "    string = input('Guess No.%d is '%(cnt))\n",
    "    try:\n",
    "        c = int(string)\n",
    "    except ValueError as ex:\n",
    "        print(ex)\n",
    "        pass \n",
    "\n",
    "    if c == a :\n",
    "        print('Correct!')\n",
    "        break\n",
    "    elif cnt > 4 :\n",
    "        print('Guess too many times.')\n",
    "        break\n",
    "    else:\n",
    "        print('The number is %d'%(a))\n",
    "\n",
    "print('Finished')"
   ]
  },
  {
   "cell_type": "markdown",
   "metadata": {},
   "source": [
    "### File Handling "
   ]
  },
  {
   "cell_type": "code",
   "execution_count": 57,
   "metadata": {},
   "outputs": [
    {
     "name": "stdout",
     "output_type": "stream",
     "text": [
      "datetime.datetime(2017, 6, 5, 8, 47, 52, 945698)\n",
      "\n",
      "datetime.datetime(2017, 6, 5, 8, 47, 56, 510285)\n",
      "\n"
     ]
    }
   ],
   "source": [
    "import datetime as dt\n",
    "\n",
    "now = repr(dt.datetime.now())\n",
    "\n",
    "filename ='hello.txt'\n",
    "f = open(filename,'a+')\n",
    "f.write(now)\n",
    "f.write('\\n')\n",
    "f.close()\n",
    "\n",
    "f = open(filename,'r')\n",
    "for ln in f.readlines():\n",
    "    print(ln)\n",
    "    \n",
    "f.close()"
   ]
  },
  {
   "cell_type": "markdown",
   "metadata": {
    "collapsed": true
   },
   "source": [
    "### Function"
   ]
  },
  {
   "cell_type": "code",
   "execution_count": 7,
   "metadata": {},
   "outputs": [
    {
     "name": "stdout",
     "output_type": "stream",
     "text": [
      "3 , 9  --> 9\n",
      "1 , 7  --> 7\n",
      "1 , 3  --> 3\n",
      "3 , 6  --> 6\n",
      "8 , 8  --> 8\n"
     ]
    }
   ],
   "source": [
    "import numpy as np\n",
    "\n",
    "# Function with 2 input, 1 return\n",
    "def max(a, b):\n",
    "    return a if a > b else b\n",
    "\n",
    "# Main Function:\n",
    "if __name__ == \"__main__\":\n",
    "    for i in range(0,5):\n",
    "        x = np.random.randint(10)\n",
    "        y = np.random.randint(10)\n",
    "        print(x,',',y,' -->',max(x,y))"
   ]
  },
  {
   "cell_type": "markdown",
   "metadata": {},
   "source": [
    "#### Absolute Value 絕對值\n",
    "\n",
    "The distance from zero to the value."
   ]
  },
  {
   "cell_type": "code",
   "execution_count": 9,
   "metadata": {},
   "outputs": [
    {
     "name": "stdout",
     "output_type": "stream",
     "text": [
      "| 8 - 7 | =  1\n",
      "| 0 - 2 | =  2\n",
      "| 1 - 2 | =  1\n",
      "| 6 - 1 | =  5\n",
      "| 5 - 4 | =  1\n"
     ]
    }
   ],
   "source": [
    "def myabs(a):\n",
    "    return (-a) if a < 0 else a\n",
    "\n",
    "if __name__ == \"__main__\":\n",
    "    for i in range(0,5):\n",
    "        x = np.random.randint(10)\n",
    "        y = np.random.randint(10)\n",
    "        print('|',x,'-',y,'| = ',myabs(x-y))\n"
   ]
  },
  {
   "cell_type": "markdown",
   "metadata": {},
   "source": [
    "#### Factorial 階乘\n",
    "\n",
    "$n! = n \\times (n-1) \\times (n-2) \\times (n-3) \\dots \\times 2 \\times 1  $\n",
    "\n",
    "$0! = 1$"
   ]
  },
  {
   "cell_type": "code",
   "execution_count": 14,
   "metadata": {},
   "outputs": [
    {
     "name": "stdout",
     "output_type": "stream",
     "text": [
      "0 ! =  1\n",
      "1 ! =  1\n",
      "2 ! =  2\n",
      "3 ! =  6\n",
      "4 ! =  24\n",
      "5 ! =  120\n",
      "6 ! =  720\n",
      "7 ! =  5040\n",
      "8 ! =  40320\n",
      "9 ! =  362880\n"
     ]
    }
   ],
   "source": [
    "def factorial(a):\n",
    "    ans = 1\n",
    "    while a > 1 :\n",
    "        ans = a * ans\n",
    "        a = a - 1\n",
    "    return ans\n",
    "\n",
    "if __name__ == \"__main__\":\n",
    "    for i in range(0,10):\n",
    "        print(i,'! = ',factorial(i))\n"
   ]
  },
  {
   "cell_type": "code",
   "execution_count": null,
   "metadata": {
    "collapsed": true
   },
   "outputs": [],
   "source": []
  }
 ],
 "metadata": {
  "kernelspec": {
   "display_name": "Python 3",
   "language": "python",
   "name": "python3"
  },
  "language_info": {
   "codemirror_mode": {
    "name": "ipython",
    "version": 3
   },
   "file_extension": ".py",
   "mimetype": "text/x-python",
   "name": "python",
   "nbconvert_exporter": "python",
   "pygments_lexer": "ipython3",
   "version": "3.6.4"
  }
 },
 "nbformat": 4,
 "nbformat_minor": 2
}
