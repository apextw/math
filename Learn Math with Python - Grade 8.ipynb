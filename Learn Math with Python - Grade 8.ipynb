{
 "cells": [
  {
   "cell_type": "markdown",
   "metadata": {},
   "source": [
    "# Learn Math with Python\n",
    "## Grade 8"
   ]
  },
  {
   "cell_type": "markdown",
   "metadata": {},
   "source": [
    "### Ch 1 Expressions, Equations and Functions\n",
    "\n",
    "#### What is an \"Equation\"?\n",
    "Equation is a statement that \"something = something\". For example: $ 5x = 10 $\n",
    "\n",
    "\n",
    "[Know more about Symbolic Python](https://github.com/sympy/sympy/wiki)"
   ]
  },
  {
   "cell_type": "code",
   "execution_count": 21,
   "metadata": {},
   "outputs": [
    {
     "data": {
      "text/plain": [
       "[2]"
      ]
     },
     "execution_count": 21,
     "metadata": {},
     "output_type": "execute_result"
    }
   ],
   "source": [
    "################################################################################\n",
    "# Evaluate the equation\n",
    "# Author: stevenlee, tw.steven@gmail.com\n",
    "################################################################################\n",
    "from sympy import *\n",
    "\n",
    "x = Symbol('x')\n",
    "\n",
    "eq = Eq(5*x,10)  # 5x = 10\n",
    "solve(eq,x)"
   ]
  },
  {
   "cell_type": "markdown",
   "metadata": {},
   "source": [
    "#### What is a \"Function\"?\n",
    "If you have an input x and an output y, then we may say y is function of x. And write as $ y = f(x) $\n",
    "\n",
    "<img src=\"./svg/function.svg\" />\n",
    "\n",
    "Constant Function:\n",
    "\n",
    "$y = a$\n",
    "\n",
    "Linear Function:\n",
    "\n",
    "$ y = ax $\n",
    "\n",
    "$ y = ax + b$"
   ]
  },
  {
   "cell_type": "code",
   "execution_count": 6,
   "metadata": {},
   "outputs": [
    {
     "data": {
      "image/png": "[encoded data removed]",
      "text/plain": [
       "<matplotlib.figure.Figure at 0x117af9d30>"
      ]
     },
     "metadata": {},
     "output_type": "display_data"
    }
   ],
   "source": [
    "################################################################################\n",
    "# Let's see the linear functions in XY plane\n",
    "# Author: stevenlee, tw.steven@gmail.com\n",
    "################################################################################\n",
    "# Import necessary modules:\n",
    "# Numpy is for fundamental science computing. http://www.numpy.org/\n",
    "# Matplotlib is for generating figures. https://matplotlib.org/\n",
    "import numpy as np\n",
    "import matplotlib.pyplot as plt\n",
    "\n",
    "# Prepare the data x = [-10 -9.9 -9.8 ... -0.1 0, 0.1 ... 9.8 9.9]\n",
    "x = np.arange(-10., 10., 0.1) # ask np to generate an array from -10 to 10, with step 0.1 (start, stop, step)\n",
    "\n",
    "# Prepare different output data\n",
    "y_constant = 0*x + 5                          # horizontal line y = 5\n",
    "y_linear = 2*x                                # y = 2x\n",
    "\n",
    "# Plot to figure\n",
    "plt.figure(figsize=(8, 6), dpi=80)\n",
    "plt.title('Constant and Linear Functions')    # Title of 1st subplot\n",
    "plt.plot(x, y_constant,'r',x, y_linear, 'g')  # Plota red line and green line\n",
    "\n",
    "plt.text(-8,6,'Constant Function')\n",
    "plt.text(-4,-10,'Linear Function')\n",
    "plt.grid(True)                                # Turn on the grid\n",
    "plt.xlabel('x')                               # X Label\n",
    "plt.ylabel('output(y)')                       # Y Label\n",
    "plt.tight_layout()                            # Tight the layout\n",
    "plt.show()                                    # Show the plot"
   ]
  },
  {
   "cell_type": "markdown",
   "metadata": {},
   "source": [
    "**Do you know?**\n",
    "\n",
    "Evaluate the equation / Simplify the function / Solve the equation ...\n",
    "\n",
    "**Evaluate**: To find the value of an expression.\n",
    "\n",
    "**Solve**: To find \"the solution\"(a set of values) that satisfy the given equation(s).\n",
    "\n",
    "**Simplify**: Reducing an expression to a briefer form."
   ]
  },
  {
   "cell_type": "markdown",
   "metadata": {},
   "source": [
    "### Ch2 Solving Linear Equations\n",
    "\n",
    "If $mx + k = 0$, then $ x = -k/m$\n",
    "\n",
    "**Try to modify m and k to see how x changed**"
   ]
  },
  {
   "cell_type": "code",
   "execution_count": 53,
   "metadata": {},
   "outputs": [
    {
     "name": "stdout",
     "output_type": "stream",
     "text": [
      "[-2]\n"
     ]
    }
   ],
   "source": [
    "################################################################################\n",
    "# Evaluate the equation\n",
    "# Author: stevenlee, tw.steven@gmail.com\n",
    "################################################################################\n",
    "from sympy import *\n",
    "import numpy as np\n",
    "import matplotlib.pyplot as plt\n",
    "################################################################################\n",
    "# mx + k = 0\n",
    "m = 2\n",
    "k = 4\n",
    "################################################################################\n",
    "# Symbolic Method:\n",
    "x = Symbol('x')\n",
    "\n",
    "# Two equations here:\n",
    "eq = Eq(m*x+k,0)\n",
    "\n",
    "# res is the result\n",
    "res = solve(eq,x)\n",
    "print(res)"
   ]
  },
  {
   "cell_type": "markdown",
   "metadata": {},
   "source": [
    "### Ch3 Graphing Linear Equations and Functions\n",
    "\n",
    "**Slope** is the ratio of y over x : $Slope m = y/x$\n",
    "\n",
    "Or, when x increase 1, how much y will increase.\n",
    "\n",
    "**Offset** is lifting the line in y direction. Offset is the offset from (0,0) to (0,k)\n",
    "\n",
    "$ y = slope * x + offset $ or $ y = mx + k$\n",
    "\n",
    "*Slope and Offset are indepentant*\n",
    "\n",
    "Try to modify the following plot:\n",
    "1. Offset the line\n",
    "2. Change slope"
   ]
  },
  {
   "cell_type": "code",
   "execution_count": 52,
   "metadata": {},
   "outputs": [
    {
     "data": {
      "image/png": "[encoded data removed]",
      "text/plain": [
       "<matplotlib.figure.Figure at 0x118c2d198>"
      ]
     },
     "metadata": {},
     "output_type": "display_data"
    }
   ],
   "source": [
    "################################################################################\n",
    "# Graphing the equations\n",
    "# Author: stevenlee, tw.steven@gmail.com\n",
    "################################################################################\n",
    "from sympy import *\n",
    "import numpy as np\n",
    "import matplotlib.pyplot as plt\n",
    "################################################################################\n",
    "# y1 = m1 * x + k1\n",
    "m1 = 2\n",
    "k1 = 0\n",
    "# y2 = m2 * x + k2\n",
    "m2 = 0\n",
    "k2 = 5\n",
    "################################################################################\n",
    "# Symbolic Method:\n",
    "x = Symbol('x')\n",
    "y = Symbol('y')\n",
    "\n",
    "# Two equations here:\n",
    "eq1 = Eq(y, m1*x+k1)\n",
    "eq2 = Eq(y, m2*x+k2)\n",
    "\n",
    "# res is the result\n",
    "res = solve([eq1, eq2],(x,y))\n",
    "x0 = Float(res[x])\n",
    "y0 = Float(res[y])\n",
    "\n",
    "################################################################################\n",
    "# Numerical Method:\n",
    "# Prepare the data x = [-10 -9.9 -9.8 ... -0.1 0, 0.1 ... 9.8 9.9]\n",
    "x_ = np.arange(-10., 10., 0.1) # ask np to generate an array from -10 to 10, with step 0.1 (start, stop, step)\n",
    "\n",
    "# Two equations here:\n",
    "y_eq1 = m1*x_ + k1\n",
    "y_eq2 = m2*x_ + k2\n",
    "\n",
    "# Plot to figure\n",
    "plt.figure(figsize=(8, 6), dpi=80)\n",
    "plt.plot(x_, y_eq1,'r',x_, y_eq2, 'g')  # Plota red line and green line\n",
    "plt.plot(x0, y0,'bo')\n",
    "plt.text(x0+0.5,y0+0.5,\"({:.2f},{:.2f})\".format(x0,y0))\n",
    "plt.grid(True)                                # Turn on the grid\n",
    "plt.xlabel('x')                               # X Label\n",
    "plt.ylabel('y')                               # Y Label\n",
    "plt.tight_layout()                            # Tight the layout\n",
    "plt.show()                                    # Show the plot\n"
   ]
  },
  {
   "cell_type": "markdown",
   "metadata": {},
   "source": [
    "### Ch4 Writing Linear Equations\n",
    "\n",
    "#### Slope-intercept form\n",
    "m: slope\n",
    "b: y-intercept\n",
    "\n",
    "$ y = mx + b$\n",
    "\n",
    "that is: $ (y-b) = m(x-0)$\n",
    "\n",
    "$(0,b)$ belongs to the line\n",
    "\n",
    "#### Point-slope form\n",
    "m: slope\n",
    "$(x_1,y_1)$ belongs to the line\n",
    "\n",
    "$ y - y_1 = m (x - x_1)$\n",
    "\n",
    "$ m = \\frac{y - y_1}{x-x_1}$\n",
    "\n",
    "#### What if I don't know the slope?\n",
    "Slope-intercept form or Point-slope form are both slope and a point.\n",
    "If I don't know the slope. I need 2 points to define a line.\n",
    "\n",
    "$ P_0 = (x_0,y_0) $\n",
    "$ P_1 = (x_1,y_1) $\n",
    "\n",
    "If $(x_1 - x_0) ≠ 0$,  \n",
    "\n",
    "$ m = \\frac{y_1-y_0}{x_1-x_0} $\n",
    "\n",
    "$ y - y_0 = m * ( x - x_0) $ \n",
    "\n",
    "$ y = mx + (y_0 - mx_0) $\n",
    "\n",
    "**What if $(x_1 - x_0) = 0$ ?**\n",
    "\n",
    "**Given 2 points, draw a line**\n",
    "\n",
    "Modify the 2 points and observe:"
   ]
  },
  {
   "cell_type": "code",
   "execution_count": 8,
   "metadata": {},
   "outputs": [
    {
     "data": {
      "image/png": "[encoded data removed]",
      "text/plain": [
       "<matplotlib.figure.Figure at 0x115d18828>"
      ]
     },
     "metadata": {},
     "output_type": "display_data"
    }
   ],
   "source": [
    "################################################################################\n",
    "# Given two points, draw a line\n",
    "# Author: stevenlee, tw.steven@gmail.com\n",
    "################################################################################\n",
    "import numpy as np\n",
    "import matplotlib.pyplot as plt\n",
    "\n",
    "ROI = 10.0\n",
    "STEP = ROI/100\n",
    "# Given points:\n",
    "x0,y0 = 2,3\n",
    "x1,y1 = -2,-3\n",
    "\n",
    "x_ = np.arange(-ROI, ROI, STEP)\n",
    "# Equation\n",
    "if x0 == x1:\n",
    "    if y0 == y1:\n",
    "        print(\"Two points are identical!\")\n",
    "        x_ = x_ * 0\n",
    "        \n",
    "    else:\n",
    "        print(\"x={}\".format(x0))\n",
    "        y_ = x_\n",
    "        x_ = y_ * 0 + x0\n",
    "            \n",
    "else:\n",
    "    m = float(y1-y0)/float(x1-x0)\n",
    "    y_ = m * (x_ - x0) + y0 \n",
    "    \n",
    "plt.figure(figsize=(8, 6), dpi=80)\n",
    "plt.plot(x_, y_, 'g')\n",
    "\n",
    "plt.grid(True)                                # Turn on the grid\n",
    "plt.xlabel('x')                               # X Label\n",
    "plt.ylabel('y')                               # Y Label\n",
    "plt.tight_layout()                            # Tight the layout\n",
    "plt.show()                                    # Show the plot\n"
   ]
  },
  {
   "cell_type": "code",
   "execution_count": null,
   "metadata": {},
   "outputs": [],
   "source": []
  },
  {
   "cell_type": "markdown",
   "metadata": {},
   "source": [
    "### Ch5 Solving and Graphing Linear Inequalities"
   ]
  },
  {
   "cell_type": "markdown",
   "metadata": {},
   "source": [
    "### Ch 6 Systems of Equations and Inequalities"
   ]
  },
  {
   "cell_type": "markdown",
   "metadata": {},
   "source": [
    "### Ch 7 Exponents and Exponential Functions"
   ]
  },
  {
   "cell_type": "markdown",
   "metadata": {},
   "source": [
    "### Ch 8 Polynomials and Factoring"
   ]
  },
  {
   "cell_type": "markdown",
   "metadata": {},
   "source": [
    "### Ch 9 Quadratic Equaltions and Functions\n",
    "#### Quadratic Functions: 二次函數\n",
    "Quadratic means \"四邊形\"。命名時可能是要算四邊形面積使用，但是實際上只有二次方。\n",
    "\n",
    "(三次函數：Cubic Function, 四次函數：Quartic Function.)\n",
    "\n",
    "Quadratic Function: \n",
    "$y = a x^2 + b x + c$ , where a is not 0.\n",
    "\n",
    "Cubic Function:\n",
    "$y = a x^3 + b x^2 + c x + d$ , where a is not 0.\n",
    "\n",
    "Quartic Function:\n",
    "$y = a x^4 + b x^3 + c x^2 + d x + e$ , where a is not 0."
   ]
  },
  {
   "cell_type": "code",
   "execution_count": null,
   "metadata": {},
   "outputs": [],
   "source": [
    "################################################################################\n",
    "# Let's see the linear functions in XY plane\n",
    "# Author: stevenlee, tw.steven@gmail.com\n",
    "# Date: 2017.05.16\n",
    "################################################################################\n",
    "# Import necessary modules:\n",
    "# Numpy is for fundamental science computing. http://www.numpy.org/\n",
    "# Matplotlib is for generating figures. https://matplotlib.org/\n",
    "import numpy as np\n",
    "import matplotlib.pyplot as plt\n",
    "\n",
    "# Prepare the data x = [-10 -9.9 -9.8 ... -0.1 0, 0.1 ... 9.8 9.9]\n",
    "x = np.arange(-10., 10., 0.1) # ask np to generate an array from -10 to 10, with step 0.1 (start, stop, step)\n",
    "\n",
    "# Prepare different output data\n",
    "y_constant = 0*x + 5                          # horizontal line y = 5\n",
    "y_linear = 2*x                                # y = 2x\n",
    "y_quadric = (x**2) - 2*x - 10.                # y = x^2 - 2x - 10\n",
    "y_cubic = (x-4)*(x+8)*(x-6)                   # a cubic function with root at 4,6,-8\n",
    "y_quartic = (x-4)*(x+8)*(x-8)*(x+6)           # a quartic function with root at 4,-8,8,-6\n",
    "\n",
    "\n",
    "# Plot to figure\n",
    "plt.figure(figsize=(8, 6), dpi=80)\n",
    "plt.subplot(221)                              # A plot with 2x2 subplots, now plot the first\n",
    "plt.title('Constant and Linear')              # Title of 1st subplot\n",
    "plt.plot(x, y_constant,'r',x, y_linear, 'g')  # Plota red line and green line\n",
    "plt.grid(True)                                # Turn on the grid\n",
    "plt.ylabel('output(y)')                       # Y Label\n",
    "\n",
    "plt.subplot(222)\n",
    "plt.title('Linear and Quadric')\n",
    "plt.plot(x, y_linear,'g',x, y_quadric, 'b')\n",
    "plt.grid(True)\n",
    "\n",
    "plt.subplot(223)\n",
    "plt.title('Quadric and Cubic')\n",
    "plt.plot(x, y_quadric,'b',x, y_cubic, 'r')\n",
    "plt.grid(True)\n",
    "plt.xlabel('input(x)')\n",
    "plt.ylabel('output(y)')\n",
    "\n",
    "plt.subplot(224)\n",
    "plt.title('Cubic and Quartic')\n",
    "plt.plot(x, y_cubic,'r',x, y_quartic, 'k')\n",
    "plt.grid(True)\n",
    "plt.xlabel('input(x)')\n",
    "\n",
    "plt.tight_layout()                          # Tight the layout\n",
    "plt.show()                                  # Show the plot"
   ]
  },
  {
   "cell_type": "markdown",
   "metadata": {},
   "source": [
    "### Ch 10 Data Analysis\n",
    "### Ch 11 Probability"
   ]
  },
  {
   "cell_type": "code",
   "execution_count": null,
   "metadata": {},
   "outputs": [],
   "source": []
  }
 ],
 "metadata": {
  "kernelspec": {
   "display_name": "Python 3",
   "language": "python",
   "name": "python3"
  },
  "language_info": {
   "codemirror_mode": {
    "name": "ipython",
    "version": 3
   },
   "file_extension": ".py",
   "mimetype": "text/x-python",
   "name": "python",
   "nbconvert_exporter": "python",
   "pygments_lexer": "ipython3",
   "version": "3.6.4"
  }
 },
 "nbformat": 4,
 "nbformat_minor": 2
}
