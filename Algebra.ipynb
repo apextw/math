{
 "cells": [
  {
   "cell_type": "markdown",
   "metadata": {},
   "source": [
    "# Algebra 2\n",
    "\n",
    "\n"
   ]
  },
  {
   "cell_type": "markdown",
   "metadata": {},
   "source": [
    "### Ch1. Quadratic Functions and Factoring\n",
    "\n",
    "#### What is a \"Function\"?\n",
    "    $$ y = ¥f(x) $$\n",
    "\n",
    "#### Quadratic Functions: 二次函數\n",
    "   $y = a x^{2} + b x + c$ where a is not 0.\n",
    "   Quadratic means \"四邊形\" /to 正方形的面積是邊長的平方\n",
    "\n",
    "#### Factoring:\n",
    "    $$ y = (x+a)(x+b) $$\n"
   ]
  },
  {
   "cell_type": "markdown",
   "metadata": {},
   "source": [
    "### Ch2. Polynomials and Polynominal Fuctions\n",
    "Polynomials \n",
    "Polynominal Fuctions\n",
    "\n",
    "### Ch3. Rational Exponents and Radical Functions\n",
    "Rational Exponents \n",
    "Radical Functions\n",
    "\n",
    "### Ch4. Exponential and Logarithmic Functions\n",
    "Exponential Functions\n",
    "Logarithmic Functions\n",
    "\n",
    "### Ch5. Rational Functions\n",
    "Rational Functions"
   ]
  },
  {
   "cell_type": "markdown",
   "metadata": {},
   "source": [
    "### Ch6. Data Analysis and Statistics\n",
    "\n",
    "### Ch7. Sequence and Series\n",
    "\n",
    "### Ch8. Quadratic Relations and Conic Sections\n",
    "\n",
    "### Ch9. Trigonometric Ratios and Functions\n",
    "\n",
    "### Ch10. Trigonometric Graphs, Identities and Equations"
   ]
  },
  {
   "cell_type": "code",
   "execution_count": null,
   "metadata": {
    "collapsed": true
   },
   "outputs": [],
   "source": []
  }
 ],
 "metadata": {
  "anaconda-cloud": {},
  "kernelspec": {
   "display_name": "Python [conda root]",
   "language": "python",
   "name": "conda-root-py"
  },
  "language_info": {
   "codemirror_mode": {
    "name": "ipython",
    "version": 3
   },
   "file_extension": ".py",
   "mimetype": "text/x-python",
   "name": "python",
   "nbconvert_exporter": "python",
   "pygments_lexer": "ipython3",
   "version": "3.5.2"
  }
 },
 "nbformat": 4,
 "nbformat_minor": 1
}
