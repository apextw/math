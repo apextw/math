{
 "cells": [
  {
   "cell_type": "markdown",
   "metadata": {},
   "source": [
    "# Arofly 參數調整\n",
    "## Data 0618\n",
    "\n",
    "針對尹鑫的反應：Road Bike高估Power，進行參數調整。"
   ]
  },
  {
   "cell_type": "markdown",
   "metadata": {},
   "source": [
    "觀察相老師騎乘：\n",
    "\n",
    "![原參數 TS 相老師](0618/螢幕快照 2017-06-19 上午10.37.24.png)\n",
    "\n",
    "![原參數 FTP 相老師](0618/螢幕快照 2017-06-19 上午10.41.23.png)"
   ]
  },
  {
   "cell_type": "markdown",
   "metadata": {},
   "source": [
    "觀察尹鑫騎乘：\n",
    "\n",
    "\n",
    "![原參數 TS 尹鑫](0618/螢幕快照 2017-06-19 上午10.58.08.png)\n",
    "\n",
    "![原參數 FTP 尹鑫](0618/螢幕快照 2017-06-19 上午10.58.59.png)"
   ]
  },
  {
   "cell_type": "markdown",
   "metadata": {},
   "source": [
    "### 小結論：\n",
    "- 尹鑫的資料最大值沒有高估，但是平均明顯高估、而且速度不穩定時，Power很不穩定\n",
    "- 老師的資料看似沒有高估，實際看FTP仍然可以知道平均值高估\n",
    "\n",
    "### 對策：\n",
    "- 修正kAir斜率，讓體重高的影響降低。\n",
    "- 修正kMomentum整個變小，讓速度平方差的影響降低。"
   ]
  },
  {
   "cell_type": "code",
   "execution_count": null,
   "metadata": {
    "collapsed": true
   },
   "outputs": [],
   "source": [
    "        # 0618 Modify:\n",
    "        if kRiderWeight > 95 :\n",
    "            kAir = 0.25\n",
    "        elif kRiderWeight < 45 :\n",
    "            kAir = 0.15\n",
    "        else:\n",
    "            kAir = 0.15 + 0.002 * (kRiderWeight - 45)\n",
    "        # if kRiderWeight > 95 :\n",
    "        #     kAir = 0.3\n",
    "        # elif kRiderWeight < 45 :\n",
    "        #     kAir = 0.15\n",
    "        # else:\n",
    "        #     kAir = 0.15 + 0.003 * (kRiderWeight - 45)\n"
   ]
  },
  {
   "cell_type": "code",
   "execution_count": null,
   "metadata": {
    "collapsed": true
   },
   "outputs": [],
   "source": [
    "        # 0618 Modify:\n",
    "        if (kRiderWeight + kBikeWeight) > 107.5 :\n",
    "            kMomentum = 0.15\n",
    "        elif (kRiderWeight + kBikeWeight) < 57.5 :\n",
    "            kMomentum = 0.05\n",
    "        else:\n",
    "            kMomentum = 0.05 + 0.002 * (kRiderWeight + kBikeWeight - 57.5)\n",
    "        # if (kRiderWeight + kBikeWeight) > 107.5 :\n",
    "        #     kMomentum = 0.3\n",
    "        # elif (kRiderWeight + kBikeWeight) < 57.5 :\n",
    "        #     kMomentum = 0.15\n",
    "        # else:\n",
    "        #     kMomentum = 0.15 + 0.003 * (kRiderWeight + kBikeWeight - 57.5)\n"
   ]
  },
  {
   "cell_type": "markdown",
   "metadata": {},
   "source": [
    "新參數 相老師騎乘：\n",
    "\n",
    "![新參數 TS 相老師](0618/螢幕快照 2017-06-19 上午11.25.33.png)\n",
    "\n",
    "![新參數 FTP 相老師](0618/螢幕快照 2017-06-19 上午11.25.47.png)\n",
    "\n",
    "\n",
    "\n",
    "新參數 尹鑫騎乘：\n",
    "\n",
    "\n",
    "![新參數 TS 尹鑫](0618/螢幕快照 2017-06-19 上午11.26.57.png)\n",
    "\n",
    "![新參數 FTP 尹鑫](0618/螢幕快照 2017-06-19 上午11.27.12.png)"
   ]
  },
  {
   "cell_type": "markdown",
   "metadata": {},
   "source": [
    "# Additional Observation\n",
    "\n",
    "X: Normalized Speed\n",
    "\n",
    "Y: Normalized PAM\n",
    "\n",
    "Circle Size: Arofly Power\n",
    "\n",
    "Circlue Coloe: Height"
   ]
  },
  {
   "cell_type": "markdown",
   "metadata": {},
   "source": [
    "相老師：\n",
    "![原參數 Scatter 相老師](0618/螢幕快照 2017-06-19 上午11.25.57.png)\n",
    "\n",
    "尹鑫：\n",
    "![原參數 Scatter 尹鑫](0618/螢幕快照 2017-06-19 上午11.27.23.png)"
   ]
  },
  {
   "cell_type": "code",
   "execution_count": null,
   "metadata": {
    "collapsed": true
   },
   "outputs": [],
   "source": []
  }
 ],
 "metadata": {
  "kernelspec": {
   "display_name": "Python [conda env:carnd-term1]",
   "language": "python",
   "name": "conda-env-carnd-term1-py"
  },
  "language_info": {
   "codemirror_mode": {
    "name": "ipython",
    "version": 3
   },
   "file_extension": ".py",
   "mimetype": "text/x-python",
   "name": "python",
   "nbconvert_exporter": "python",
   "pygments_lexer": "ipython3",
   "version": "3.5.2"
  }
 },
 "nbformat": 4,
 "nbformat_minor": 2
}
